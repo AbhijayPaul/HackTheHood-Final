{
 "cells": [
  {
   "cell_type": "code",
   "execution_count": 15,
   "id": "5d96f844-4d77-4576-a7a6-781f6669df00",
   "metadata": {},
   "outputs": [],
   "source": [
    "import pandas\n",
    "import seaborn\n",
    "import matplotlib.pyplot as plt"
   ]
  },
  {
   "cell_type": "markdown",
   "metadata": {},
   "source": [
    "First we load in our data into a variable using pandas."
   ]
  },
  {
   "cell_type": "code",
   "execution_count": 16,
   "id": "b8f14864-bde9-4447-9c02-7e3a417b0bfb",
   "metadata": {},
   "outputs": [
    {
     "data": {
      "text/html": [
       "<div>\n",
       "<style scoped>\n",
       "    .dataframe tbody tr th:only-of-type {\n",
       "        vertical-align: middle;\n",
       "    }\n",
       "\n",
       "    .dataframe tbody tr th {\n",
       "        vertical-align: top;\n",
       "    }\n",
       "\n",
       "    .dataframe thead th {\n",
       "        text-align: right;\n",
       "    }\n",
       "</style>\n",
       "<table border=\"1\" class=\"dataframe\">\n",
       "  <thead>\n",
       "    <tr style=\"text-align: right;\">\n",
       "      <th></th>\n",
       "      <th>Age</th>\n",
       "      <th>Gender</th>\n",
       "      <th>Education Level</th>\n",
       "      <th>Job Title</th>\n",
       "      <th>Years of Experience</th>\n",
       "      <th>Salary</th>\n",
       "      <th>Country</th>\n",
       "      <th>Race</th>\n",
       "      <th>Senior</th>\n",
       "    </tr>\n",
       "  </thead>\n",
       "  <tbody>\n",
       "    <tr>\n",
       "      <th>0</th>\n",
       "      <td>32.0</td>\n",
       "      <td>Male</td>\n",
       "      <td>1</td>\n",
       "      <td>Software Engineer</td>\n",
       "      <td>5.0</td>\n",
       "      <td>90000.0</td>\n",
       "      <td>UK</td>\n",
       "      <td>White</td>\n",
       "      <td>0</td>\n",
       "    </tr>\n",
       "    <tr>\n",
       "      <th>1</th>\n",
       "      <td>28.0</td>\n",
       "      <td>Female</td>\n",
       "      <td>2</td>\n",
       "      <td>Data Analyst</td>\n",
       "      <td>3.0</td>\n",
       "      <td>65000.0</td>\n",
       "      <td>USA</td>\n",
       "      <td>Hispanic</td>\n",
       "      <td>0</td>\n",
       "    </tr>\n",
       "    <tr>\n",
       "      <th>2</th>\n",
       "      <td>45.0</td>\n",
       "      <td>Male</td>\n",
       "      <td>3</td>\n",
       "      <td>Manager</td>\n",
       "      <td>15.0</td>\n",
       "      <td>150000.0</td>\n",
       "      <td>Canada</td>\n",
       "      <td>White</td>\n",
       "      <td>1</td>\n",
       "    </tr>\n",
       "    <tr>\n",
       "      <th>3</th>\n",
       "      <td>36.0</td>\n",
       "      <td>Female</td>\n",
       "      <td>1</td>\n",
       "      <td>Sales Associate</td>\n",
       "      <td>7.0</td>\n",
       "      <td>60000.0</td>\n",
       "      <td>USA</td>\n",
       "      <td>Hispanic</td>\n",
       "      <td>0</td>\n",
       "    </tr>\n",
       "    <tr>\n",
       "      <th>4</th>\n",
       "      <td>52.0</td>\n",
       "      <td>Male</td>\n",
       "      <td>2</td>\n",
       "      <td>Director</td>\n",
       "      <td>20.0</td>\n",
       "      <td>200000.0</td>\n",
       "      <td>USA</td>\n",
       "      <td>Asian</td>\n",
       "      <td>0</td>\n",
       "    </tr>\n",
       "    <tr>\n",
       "      <th>...</th>\n",
       "      <td>...</td>\n",
       "      <td>...</td>\n",
       "      <td>...</td>\n",
       "      <td>...</td>\n",
       "      <td>...</td>\n",
       "      <td>...</td>\n",
       "      <td>...</td>\n",
       "      <td>...</td>\n",
       "      <td>...</td>\n",
       "    </tr>\n",
       "    <tr>\n",
       "      <th>6679</th>\n",
       "      <td>49.0</td>\n",
       "      <td>Female</td>\n",
       "      <td>3</td>\n",
       "      <td>Director of Marketing</td>\n",
       "      <td>20.0</td>\n",
       "      <td>200000.0</td>\n",
       "      <td>UK</td>\n",
       "      <td>Mixed</td>\n",
       "      <td>0</td>\n",
       "    </tr>\n",
       "    <tr>\n",
       "      <th>6680</th>\n",
       "      <td>32.0</td>\n",
       "      <td>Male</td>\n",
       "      <td>0</td>\n",
       "      <td>Sales Associate</td>\n",
       "      <td>3.0</td>\n",
       "      <td>50000.0</td>\n",
       "      <td>Australia</td>\n",
       "      <td>Australian</td>\n",
       "      <td>0</td>\n",
       "    </tr>\n",
       "    <tr>\n",
       "      <th>6681</th>\n",
       "      <td>30.0</td>\n",
       "      <td>Female</td>\n",
       "      <td>1</td>\n",
       "      <td>Financial Manager</td>\n",
       "      <td>4.0</td>\n",
       "      <td>55000.0</td>\n",
       "      <td>China</td>\n",
       "      <td>Chinese</td>\n",
       "      <td>0</td>\n",
       "    </tr>\n",
       "    <tr>\n",
       "      <th>6682</th>\n",
       "      <td>46.0</td>\n",
       "      <td>Male</td>\n",
       "      <td>2</td>\n",
       "      <td>Marketing Manager</td>\n",
       "      <td>14.0</td>\n",
       "      <td>140000.0</td>\n",
       "      <td>China</td>\n",
       "      <td>Korean</td>\n",
       "      <td>0</td>\n",
       "    </tr>\n",
       "    <tr>\n",
       "      <th>6683</th>\n",
       "      <td>26.0</td>\n",
       "      <td>Female</td>\n",
       "      <td>0</td>\n",
       "      <td>Sales Executive</td>\n",
       "      <td>1.0</td>\n",
       "      <td>35000.0</td>\n",
       "      <td>Canada</td>\n",
       "      <td>Black</td>\n",
       "      <td>0</td>\n",
       "    </tr>\n",
       "  </tbody>\n",
       "</table>\n",
       "<p>6684 rows × 9 columns</p>\n",
       "</div>"
      ],
      "text/plain": [
       "       Age  Gender  Education Level              Job Title  \\\n",
       "0     32.0    Male                1      Software Engineer   \n",
       "1     28.0  Female                2           Data Analyst   \n",
       "2     45.0    Male                3                Manager   \n",
       "3     36.0  Female                1        Sales Associate   \n",
       "4     52.0    Male                2               Director   \n",
       "...    ...     ...              ...                    ...   \n",
       "6679  49.0  Female                3  Director of Marketing   \n",
       "6680  32.0    Male                0        Sales Associate   \n",
       "6681  30.0  Female                1      Financial Manager   \n",
       "6682  46.0    Male                2      Marketing Manager   \n",
       "6683  26.0  Female                0        Sales Executive   \n",
       "\n",
       "      Years of Experience    Salary    Country        Race  Senior  \n",
       "0                     5.0   90000.0         UK       White       0  \n",
       "1                     3.0   65000.0        USA    Hispanic       0  \n",
       "2                    15.0  150000.0     Canada       White       1  \n",
       "3                     7.0   60000.0        USA    Hispanic       0  \n",
       "4                    20.0  200000.0        USA       Asian       0  \n",
       "...                   ...       ...        ...         ...     ...  \n",
       "6679                 20.0  200000.0         UK       Mixed       0  \n",
       "6680                  3.0   50000.0  Australia  Australian       0  \n",
       "6681                  4.0   55000.0      China     Chinese       0  \n",
       "6682                 14.0  140000.0      China      Korean       0  \n",
       "6683                  1.0   35000.0     Canada       Black       0  \n",
       "\n",
       "[6684 rows x 9 columns]"
      ]
     },
     "execution_count": 16,
     "metadata": {},
     "output_type": "execute_result"
    }
   ],
   "source": [
    "salaryData = pandas.read_csv(\"Salary.csv\")\n",
    "salaryData\n"
   ]
  },
  {
   "cell_type": "markdown",
   "metadata": {},
   "source": [
    "To get a general idea what is in our data, specifically the salary column, we use the .describe() method."
   ]
  },
  {
   "cell_type": "code",
   "execution_count": 23,
   "id": "a62743f6-e72f-4d61-bfb1-7ec7a664b824",
   "metadata": {},
   "outputs": [
    {
     "data": {
      "text/plain": [
       "count      6684.000000\n",
       "mean     115307.175194\n",
       "std       52806.810881\n",
       "min         350.000000\n",
       "25%       70000.000000\n",
       "50%      115000.000000\n",
       "75%      160000.000000\n",
       "max      250000.000000\n",
       "Name: Salary, dtype: float64"
      ]
     },
     "execution_count": 23,
     "metadata": {},
     "output_type": "execute_result"
    }
   ],
   "source": [
    "salaryData[\"Salary\"].describe()\n"
   ]
  },
  {
   "cell_type": "markdown",
   "metadata": {},
   "source": [
    "# Question 1: __Make a histogram of all the salaries values in the data set.__"
   ]
  },
  {
   "cell_type": "markdown",
   "metadata": {},
   "source": [
    "The next three lines are to give us a general idea of what the data should look like when visualized."
   ]
  },
  {
   "cell_type": "code",
   "execution_count": 21,
   "metadata": {},
   "outputs": [
    {
     "data": {
      "text/plain": [
       "0    140000.0\n",
       "Name: Salary, dtype: float64"
      ]
     },
     "execution_count": 21,
     "metadata": {},
     "output_type": "execute_result"
    }
   ],
   "source": [
    "salaryData[\"Salary\"].mode()"
   ]
  },
  {
   "cell_type": "markdown",
   "metadata": {},
   "source": [
    "Here we find out the unique salary values in the dataset."
   ]
  },
  {
   "cell_type": "code",
   "execution_count": 24,
   "metadata": {},
   "outputs": [
    {
     "data": {
      "text/plain": [
       "array([ 90000.,  65000., 150000.,  60000., 200000.,  55000., 120000.,\n",
       "        80000.,  45000., 110000.,  75000., 140000., 130000.,  40000.,\n",
       "       125000., 115000.,  35000., 180000., 190000.,  50000., 250000.,\n",
       "       170000., 160000.,  85000.,  95000., 105000.,  70000., 100000.,\n",
       "        30000., 135000., 220000., 175000., 185000., 145000., 155000.,\n",
       "          350., 195000., 198000., 196000., 193000.,  92000., 165000.,\n",
       "       162000., 197000., 142000., 182000., 210000.,    550., 122485.,\n",
       "       169159., 187081.,  78354.,  90249., 132720., 161568., 127346.,\n",
       "       120177., 101332., 121450., 166375., 185119., 149217., 166512.,\n",
       "       186963.,  75072., 163398., 103947., 179180., 175966., 190004.,\n",
       "       152039.,  76742., 191790., 139398.,  95845., 160976., 126753.,\n",
       "       139817., 181714., 114776., 105725.,  52731., 106492.,  73895.,\n",
       "       119836.,  99747., 168287., 115920., 128078.,  51265., 165919.,\n",
       "       188651.,  55538., 193964., 104702., 172955., 138032.,  82683.,\n",
       "       155414., 154207., 107895., 148446., 102859., 138662., 181699.,\n",
       "       188232.,  51832., 188484., 138286., 181132.,  73938., 119224.,\n",
       "       101186., 142360., 151315., 181021., 134641., 173851., 178859.,\n",
       "        98568., 104661., 134858.,  94502., 139095., 106278.,  90452.,\n",
       "       168304., 126593., 152203., 183138., 130275., 191915.,  62807.,\n",
       "       174305., 133326.,  75656., 155944., 137775.,  51831., 182237.,\n",
       "       151901., 100052., 167207., 112439., 194214.,  84407., 139413.,\n",
       "       143084., 192344., 106132., 184816., 150248., 170995.,  88035.,\n",
       "       119419., 173582., 174436.,  71699., 163558., 166828., 144496.,\n",
       "       193746., 122581.,  79767., 177177.,  89843., 113563., 128712.,\n",
       "       161621., 121454., 179987.,  72649.,  52612., 184006., 131960.,\n",
       "       102465., 149748., 171036., 146351., 185462., 107718.,  90944.,\n",
       "       100425.,  63901., 181902., 136533., 136285., 191818., 176643.,\n",
       "        70022.,  99363., 152944., 123386., 168906., 183020.,  47898.,\n",
       "       135853., 149198., 106662., 186610.,  89995.,  85825., 143814.,\n",
       "       174726., 150534.,  68732., 187951., 137336., 191159., 102868.,\n",
       "       154281., 111535., 107906., 143885., 180958., 108607., 178284.,\n",
       "        75969., 143705., 197354., 174324., 123781., 141735., 187120.,\n",
       "        61095., 179045., 130355., 103282., 157872., 117314., 186321.,\n",
       "       129686.,  68611., 177913.,  68472., 113065., 125091., 172925.,\n",
       "       126916., 183417.,  76898.,    579., 103579., 163780., 137878.,\n",
       "        92438.,  84181., 174821., 126520., 152168., 190543., 131547.,\n",
       "       192292.,  52807., 174938., 124071.,  73640., 156486., 138859.,\n",
       "        52831., 182392., 151078., 100679., 167924., 113334., 194778.,\n",
       "        77606., 140010., 142421., 192756., 106686., 186794., 150729.,\n",
       "       171652.,  88552., 119918., 174985., 174336.,  72389., 163978.,\n",
       "       166958., 145052., 195270., 122970.,  80247., 177862.,  91062.,\n",
       "       114290., 128999., 162454., 122354., 179756.,  73218., 184480.,\n",
       "       132442., 102828., 150301., 171468., 147326., 185982., 108267.,\n",
       "        91397., 100867.,  64182., 182506., 136986., 136662., 191510.,\n",
       "       177347.,  70397., 146075., 155795., 132638., 178684., 106218.,\n",
       "       191239.,  65840.,  52779., 185038., 136449., 110707., 151670.,\n",
       "       167015., 146508., 190596., 104378.,  70216., 101733.,  55935.,\n",
       "       180367., 135596., 136062., 191267.,  82944., 188288., 141090.,\n",
       "       152726., 124141.,  67556., 182768., 148727.,  91903., 147708.,\n",
       "       163209., 120288., 170226., 134979., 137489.,  83577., 117904.,\n",
       "       134482., 184660., 100151.,  88678., 181285., 154990., 108204.,\n",
       "       175684.,  77766., 192211., 144647., 162231., 121120.,  79652.,\n",
       "       177002.,  87584., 131860., 182013., 108799., 135378., 183530.,\n",
       "       150901.,  82697., 194638., 130356., 152560., 121432.,  63789.,\n",
       "       183690., 151310., 100358., 148437., 168691.,  32000.,  38000.,\n",
       "        89000.,  33000.,  25000.,  62000., 138000.,  47000.,  26000.,\n",
       "       174000.,  41000.,  99000., 117000., 225000.,  36000., 146000.,\n",
       "       113000., 168000., 122000.,  96000.,  49000.,  68000., 127000.,\n",
       "        71000., 240000., 152000., 119000., 131000., 101000., 137000.,\n",
       "       112000.,  91000., 179000.,  74000., 228000.,  37000., 204000.,\n",
       "        61000., 157000.,  52000.,  58000., 219000.,  77000., 104000.,\n",
       "       183000.,  43000.,  48000.,  42000.,    500.,  57000.,  72000.,\n",
       "        31000.,  28000., 215000.])"
      ]
     },
     "execution_count": 24,
     "metadata": {},
     "output_type": "execute_result"
    }
   ],
   "source": [
    "salaryData[\"Salary\"].unique()"
   ]
  },
  {
   "cell_type": "markdown",
   "metadata": {},
   "source": [
    "Here we use the value_counts method to figure out the number of occurences for each unique salary"
   ]
  },
  {
   "cell_type": "code",
   "execution_count": 40,
   "metadata": {},
   "outputs": [
    {
     "data": {
      "text/plain": [
       "Salary\n",
       "140000.0    287\n",
       "120000.0    282\n",
       "160000.0    276\n",
       "55000.0     251\n",
       "60000.0     231\n",
       "           ... \n",
       "68732.0       1\n",
       "187951.0      1\n",
       "137336.0      1\n",
       "191159.0      1\n",
       "143705.0      1\n",
       "Name: count, Length: 437, dtype: int64"
      ]
     },
     "execution_count": 40,
     "metadata": {},
     "output_type": "execute_result"
    }
   ],
   "source": [
    "salaryData[\"Salary\"].value_counts()"
   ]
  },
  {
   "cell_type": "markdown",
   "metadata": {},
   "source": [
    "Here we can see that the lowest value should be $350 and the highest should be $250,000"
   ]
  },
  {
   "cell_type": "code",
   "execution_count": 41,
   "metadata": {},
   "outputs": [
    {
     "data": {
      "text/plain": [
       "258        350.0\n",
       "4615       500.0\n",
       "1888       550.0\n",
       "2640       579.0\n",
       "4488     25000.0\n",
       "          ...   \n",
       "4258    240000.0\n",
       "4363    240000.0\n",
       "4983    250000.0\n",
       "83      250000.0\n",
       "30      250000.0\n",
       "Name: Salary, Length: 6684, dtype: float64"
      ]
     },
     "execution_count": 41,
     "metadata": {},
     "output_type": "execute_result"
    }
   ],
   "source": [
    "sortedSalary = salaryData[\"Salary\"].sort_values()\n",
    "sortedSalary"
   ]
  },
  {
   "cell_type": "markdown",
   "metadata": {},
   "source": [
    "Plugging in the sorted salary data, we see what we expect from our data in the histogram"
   ]
  },
  {
   "cell_type": "code",
   "execution_count": 42,
   "metadata": {},
   "outputs": [
    {
     "data": {
      "text/plain": [
       "<Axes: xlabel='Salary', ylabel='Count'>"
      ]
     },
     "execution_count": 42,
     "metadata": {},
     "output_type": "execute_result"
    },
    {
     "data": {
      "image/png": "[encoded data removed]",
      "text/plain": [
       "<Figure size 640x480 with 1 Axes>"
      ]
     },
     "metadata": {},
     "output_type": "display_data"
    }
   ],
   "source": [
    "seaborn.histplot(data = sortedSalary)"
   ]
  },
  {
   "cell_type": "markdown",
   "metadata": {},
   "source": [
    "# Question 2: __Make a pie chart of all the job titles in the data set. Which job title appears the most common?__"
   ]
  },
  {
   "cell_type": "markdown",
   "metadata": {},
   "source": [
    "To answer the second part of this question we can use the value_counts() method again."
   ]
  },
  {
   "cell_type": "code",
   "execution_count": 44,
   "metadata": {},
   "outputs": [
    {
     "data": {
      "text/plain": [
       "Job Title\n",
       "Software Engineer                 809\n",
       "Data Scientist                    515\n",
       "Data Analyst                      391\n",
       "Software Engineer Manager         376\n",
       "Product Manager                   323\n",
       "                                 ... \n",
       "Customer Support Specialist         1\n",
       "VP of Finance                       1\n",
       "Director of Product Management      1\n",
       "CEO                                 1\n",
       "Human Resources Director            1\n",
       "Name: count, Length: 129, dtype: int64"
      ]
     },
     "execution_count": 44,
     "metadata": {},
     "output_type": "execute_result"
    }
   ],
   "source": [
    "salaryData[\"Job Title\"].value_counts()"
   ]
  },
  {
   "cell_type": "code",
   "execution_count": null,
   "metadata": {},
   "outputs": [],
   "source": []
  }
 ],
 "metadata": {
  "kernelspec": {
   "display_name": "Python 3 (ipykernel)",
   "language": "python",
   "name": "python3"
  },
  "language_info": {
   "codemirror_mode": {
    "name": "ipython",
    "version": 3
   },
   "file_extension": ".py",
   "mimetype": "text/x-python",
   "name": "python",
   "nbconvert_exporter": "python",
   "pygments_lexer": "ipython3",
   "version": "3.11.6"
  }
 },
 "nbformat": 4,
 "nbformat_minor": 5
}
