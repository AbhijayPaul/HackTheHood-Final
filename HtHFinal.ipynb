{
 "cells": [
  {
   "cell_type": "code",
   "execution_count": 7,
   "id": "5d96f844-4d77-4576-a7a6-781f6669df00",
   "metadata": {},
   "outputs": [],
   "source": [
    "import pandas\n",
    "import seaborn\n",
    "import matplotlib.pyplot as plt"
   ]
  },
  {
   "cell_type": "markdown",
   "metadata": {},
   "source": [
    "First we load in our data into a variable using pandas."
   ]
  },
  {
   "cell_type": "code",
   "execution_count": 8,
   "id": "b8f14864-bde9-4447-9c02-7e3a417b0bfb",
   "metadata": {},
   "outputs": [
    {
     "data": {
      "text/html": [
       "<div>\n",
       "<style scoped>\n",
       "    .dataframe tbody tr th:only-of-type {\n",
       "        vertical-align: middle;\n",
       "    }\n",
       "\n",
       "    .dataframe tbody tr th {\n",
       "        vertical-align: top;\n",
       "    }\n",
       "\n",
       "    .dataframe thead th {\n",
       "        text-align: right;\n",
       "    }\n",
       "</style>\n",
       "<table border=\"1\" class=\"dataframe\">\n",
       "  <thead>\n",
       "    <tr style=\"text-align: right;\">\n",
       "      <th></th>\n",
       "      <th>Age</th>\n",
       "      <th>Gender</th>\n",
       "      <th>Education Level</th>\n",
       "      <th>Job Title</th>\n",
       "      <th>Years of Experience</th>\n",
       "      <th>Salary</th>\n",
       "      <th>Country</th>\n",
       "      <th>Race</th>\n",
       "      <th>Senior</th>\n",
       "    </tr>\n",
       "  </thead>\n",
       "  <tbody>\n",
       "    <tr>\n",
       "      <th>0</th>\n",
       "      <td>32.0</td>\n",
       "      <td>Male</td>\n",
       "      <td>1</td>\n",
       "      <td>Software Engineer</td>\n",
       "      <td>5.0</td>\n",
       "      <td>90000.0</td>\n",
       "      <td>UK</td>\n",
       "      <td>White</td>\n",
       "      <td>0</td>\n",
       "    </tr>\n",
       "    <tr>\n",
       "      <th>1</th>\n",
       "      <td>28.0</td>\n",
       "      <td>Female</td>\n",
       "      <td>2</td>\n",
       "      <td>Data Analyst</td>\n",
       "      <td>3.0</td>\n",
       "      <td>65000.0</td>\n",
       "      <td>USA</td>\n",
       "      <td>Hispanic</td>\n",
       "      <td>0</td>\n",
       "    </tr>\n",
       "    <tr>\n",
       "      <th>2</th>\n",
       "      <td>45.0</td>\n",
       "      <td>Male</td>\n",
       "      <td>3</td>\n",
       "      <td>Manager</td>\n",
       "      <td>15.0</td>\n",
       "      <td>150000.0</td>\n",
       "      <td>Canada</td>\n",
       "      <td>White</td>\n",
       "      <td>1</td>\n",
       "    </tr>\n",
       "    <tr>\n",
       "      <th>3</th>\n",
       "      <td>36.0</td>\n",
       "      <td>Female</td>\n",
       "      <td>1</td>\n",
       "      <td>Sales Associate</td>\n",
       "      <td>7.0</td>\n",
       "      <td>60000.0</td>\n",
       "      <td>USA</td>\n",
       "      <td>Hispanic</td>\n",
       "      <td>0</td>\n",
       "    </tr>\n",
       "    <tr>\n",
       "      <th>4</th>\n",
       "      <td>52.0</td>\n",
       "      <td>Male</td>\n",
       "      <td>2</td>\n",
       "      <td>Director</td>\n",
       "      <td>20.0</td>\n",
       "      <td>200000.0</td>\n",
       "      <td>USA</td>\n",
       "      <td>Asian</td>\n",
       "      <td>0</td>\n",
       "    </tr>\n",
       "    <tr>\n",
       "      <th>...</th>\n",
       "      <td>...</td>\n",
       "      <td>...</td>\n",
       "      <td>...</td>\n",
       "      <td>...</td>\n",
       "      <td>...</td>\n",
       "      <td>...</td>\n",
       "      <td>...</td>\n",
       "      <td>...</td>\n",
       "      <td>...</td>\n",
       "    </tr>\n",
       "    <tr>\n",
       "      <th>6679</th>\n",
       "      <td>49.0</td>\n",
       "      <td>Female</td>\n",
       "      <td>3</td>\n",
       "      <td>Director of Marketing</td>\n",
       "      <td>20.0</td>\n",
       "      <td>200000.0</td>\n",
       "      <td>UK</td>\n",
       "      <td>Mixed</td>\n",
       "      <td>0</td>\n",
       "    </tr>\n",
       "    <tr>\n",
       "      <th>6680</th>\n",
       "      <td>32.0</td>\n",
       "      <td>Male</td>\n",
       "      <td>0</td>\n",
       "      <td>Sales Associate</td>\n",
       "      <td>3.0</td>\n",
       "      <td>50000.0</td>\n",
       "      <td>Australia</td>\n",
       "      <td>Australian</td>\n",
       "      <td>0</td>\n",
       "    </tr>\n",
       "    <tr>\n",
       "      <th>6681</th>\n",
       "      <td>30.0</td>\n",
       "      <td>Female</td>\n",
       "      <td>1</td>\n",
       "      <td>Financial Manager</td>\n",
       "      <td>4.0</td>\n",
       "      <td>55000.0</td>\n",
       "      <td>China</td>\n",
       "      <td>Chinese</td>\n",
       "      <td>0</td>\n",
       "    </tr>\n",
       "    <tr>\n",
       "      <th>6682</th>\n",
       "      <td>46.0</td>\n",
       "      <td>Male</td>\n",
       "      <td>2</td>\n",
       "      <td>Marketing Manager</td>\n",
       "      <td>14.0</td>\n",
       "      <td>140000.0</td>\n",
       "      <td>China</td>\n",
       "      <td>Korean</td>\n",
       "      <td>0</td>\n",
       "    </tr>\n",
       "    <tr>\n",
       "      <th>6683</th>\n",
       "      <td>26.0</td>\n",
       "      <td>Female</td>\n",
       "      <td>0</td>\n",
       "      <td>Sales Executive</td>\n",
       "      <td>1.0</td>\n",
       "      <td>35000.0</td>\n",
       "      <td>Canada</td>\n",
       "      <td>Black</td>\n",
       "      <td>0</td>\n",
       "    </tr>\n",
       "  </tbody>\n",
       "</table>\n",
       "<p>6684 rows × 9 columns</p>\n",
       "</div>"
      ],
      "text/plain": [
       "       Age  Gender  Education Level              Job Title  \\\n",
       "0     32.0    Male                1      Software Engineer   \n",
       "1     28.0  Female                2           Data Analyst   \n",
       "2     45.0    Male                3                Manager   \n",
       "3     36.0  Female                1        Sales Associate   \n",
       "4     52.0    Male                2               Director   \n",
       "...    ...     ...              ...                    ...   \n",
       "6679  49.0  Female                3  Director of Marketing   \n",
       "6680  32.0    Male                0        Sales Associate   \n",
       "6681  30.0  Female                1      Financial Manager   \n",
       "6682  46.0    Male                2      Marketing Manager   \n",
       "6683  26.0  Female                0        Sales Executive   \n",
       "\n",
       "      Years of Experience    Salary    Country        Race  Senior  \n",
       "0                     5.0   90000.0         UK       White       0  \n",
       "1                     3.0   65000.0        USA    Hispanic       0  \n",
       "2                    15.0  150000.0     Canada       White       1  \n",
       "3                     7.0   60000.0        USA    Hispanic       0  \n",
       "4                    20.0  200000.0        USA       Asian       0  \n",
       "...                   ...       ...        ...         ...     ...  \n",
       "6679                 20.0  200000.0         UK       Mixed       0  \n",
       "6680                  3.0   50000.0  Australia  Australian       0  \n",
       "6681                  4.0   55000.0      China     Chinese       0  \n",
       "6682                 14.0  140000.0      China      Korean       0  \n",
       "6683                  1.0   35000.0     Canada       Black       0  \n",
       "\n",
       "[6684 rows x 9 columns]"
      ]
     },
     "execution_count": 8,
     "metadata": {},
     "output_type": "execute_result"
    }
   ],
   "source": [
    "salaryData = pandas.read_csv(\"Salary.csv\")\n",
    "salaryData\n"
   ]
  },
  {
   "cell_type": "markdown",
   "metadata": {},
   "source": [
    "To get a general idea what is in our data, specifically the salary column, we use the .describe() method."
   ]
  },
  {
   "cell_type": "code",
   "execution_count": 9,
   "id": "a62743f6-e72f-4d61-bfb1-7ec7a664b824",
   "metadata": {},
   "outputs": [
    {
     "data": {
      "text/plain": [
       "count      6684.000000\n",
       "mean     115307.175194\n",
       "std       52806.810881\n",
       "min         350.000000\n",
       "25%       70000.000000\n",
       "50%      115000.000000\n",
       "75%      160000.000000\n",
       "max      250000.000000\n",
       "Name: Salary, dtype: float64"
      ]
     },
     "execution_count": 9,
     "metadata": {},
     "output_type": "execute_result"
    }
   ],
   "source": [
    "salaryData[\"Salary\"].describe()\n"
   ]
  },
  {
   "cell_type": "markdown",
   "metadata": {},
   "source": [
    "# Question 1: __Make a histogram of all the salaries values in the data set.__"
   ]
  },
  {
   "cell_type": "markdown",
   "metadata": {},
   "source": [
    "The next three lines are to give us a general idea of what the data should look like when visualized."
   ]
  },
  {
   "cell_type": "code",
   "execution_count": 10,
   "metadata": {},
   "outputs": [
    {
     "data": {
      "text/plain": [
       "0    140000.0\n",
       "Name: Salary, dtype: float64"
      ]
     },
     "execution_count": 10,
     "metadata": {},
     "output_type": "execute_result"
    }
   ],
   "source": [
    "salaryData[\"Salary\"].mode()"
   ]
  },
  {
   "cell_type": "markdown",
   "metadata": {},
   "source": [
    "Here we find out the unique salary values in the dataset."
   ]
  },
  {
   "cell_type": "code",
   "execution_count": 11,
   "metadata": {},
   "outputs": [
    {
     "data": {
      "text/plain": [
       "array([ 90000.,  65000., 150000.,  60000., 200000.,  55000., 120000.,\n",
       "        80000.,  45000., 110000.,  75000., 140000., 130000.,  40000.,\n",
       "       125000., 115000.,  35000., 180000., 190000.,  50000., 250000.,\n",
       "       170000., 160000.,  85000.,  95000., 105000.,  70000., 100000.,\n",
       "        30000., 135000., 220000., 175000., 185000., 145000., 155000.,\n",
       "          350., 195000., 198000., 196000., 193000.,  92000., 165000.,\n",
       "       162000., 197000., 142000., 182000., 210000.,    550., 122485.,\n",
       "       169159., 187081.,  78354.,  90249., 132720., 161568., 127346.,\n",
       "       120177., 101332., 121450., 166375., 185119., 149217., 166512.,\n",
       "       186963.,  75072., 163398., 103947., 179180., 175966., 190004.,\n",
       "       152039.,  76742., 191790., 139398.,  95845., 160976., 126753.,\n",
       "       139817., 181714., 114776., 105725.,  52731., 106492.,  73895.,\n",
       "       119836.,  99747., 168287., 115920., 128078.,  51265., 165919.,\n",
       "       188651.,  55538., 193964., 104702., 172955., 138032.,  82683.,\n",
       "       155414., 154207., 107895., 148446., 102859., 138662., 181699.,\n",
       "       188232.,  51832., 188484., 138286., 181132.,  73938., 119224.,\n",
       "       101186., 142360., 151315., 181021., 134641., 173851., 178859.,\n",
       "        98568., 104661., 134858.,  94502., 139095., 106278.,  90452.,\n",
       "       168304., 126593., 152203., 183138., 130275., 191915.,  62807.,\n",
       "       174305., 133326.,  75656., 155944., 137775.,  51831., 182237.,\n",
       "       151901., 100052., 167207., 112439., 194214.,  84407., 139413.,\n",
       "       143084., 192344., 106132., 184816., 150248., 170995.,  88035.,\n",
       "       119419., 173582., 174436.,  71699., 163558., 166828., 144496.,\n",
       "       193746., 122581.,  79767., 177177.,  89843., 113563., 128712.,\n",
       "       161621., 121454., 179987.,  72649.,  52612., 184006., 131960.,\n",
       "       102465., 149748., 171036., 146351., 185462., 107718.,  90944.,\n",
       "       100425.,  63901., 181902., 136533., 136285., 191818., 176643.,\n",
       "        70022.,  99363., 152944., 123386., 168906., 183020.,  47898.,\n",
       "       135853., 149198., 106662., 186610.,  89995.,  85825., 143814.,\n",
       "       174726., 150534.,  68732., 187951., 137336., 191159., 102868.,\n",
       "       154281., 111535., 107906., 143885., 180958., 108607., 178284.,\n",
       "        75969., 143705., 197354., 174324., 123781., 141735., 187120.,\n",
       "        61095., 179045., 130355., 103282., 157872., 117314., 186321.,\n",
       "       129686.,  68611., 177913.,  68472., 113065., 125091., 172925.,\n",
       "       126916., 183417.,  76898.,    579., 103579., 163780., 137878.,\n",
       "        92438.,  84181., 174821., 126520., 152168., 190543., 131547.,\n",
       "       192292.,  52807., 174938., 124071.,  73640., 156486., 138859.,\n",
       "        52831., 182392., 151078., 100679., 167924., 113334., 194778.,\n",
       "        77606., 140010., 142421., 192756., 106686., 186794., 150729.,\n",
       "       171652.,  88552., 119918., 174985., 174336.,  72389., 163978.,\n",
       "       166958., 145052., 195270., 122970.,  80247., 177862.,  91062.,\n",
       "       114290., 128999., 162454., 122354., 179756.,  73218., 184480.,\n",
       "       132442., 102828., 150301., 171468., 147326., 185982., 108267.,\n",
       "        91397., 100867.,  64182., 182506., 136986., 136662., 191510.,\n",
       "       177347.,  70397., 146075., 155795., 132638., 178684., 106218.,\n",
       "       191239.,  65840.,  52779., 185038., 136449., 110707., 151670.,\n",
       "       167015., 146508., 190596., 104378.,  70216., 101733.,  55935.,\n",
       "       180367., 135596., 136062., 191267.,  82944., 188288., 141090.,\n",
       "       152726., 124141.,  67556., 182768., 148727.,  91903., 147708.,\n",
       "       163209., 120288., 170226., 134979., 137489.,  83577., 117904.,\n",
       "       134482., 184660., 100151.,  88678., 181285., 154990., 108204.,\n",
       "       175684.,  77766., 192211., 144647., 162231., 121120.,  79652.,\n",
       "       177002.,  87584., 131860., 182013., 108799., 135378., 183530.,\n",
       "       150901.,  82697., 194638., 130356., 152560., 121432.,  63789.,\n",
       "       183690., 151310., 100358., 148437., 168691.,  32000.,  38000.,\n",
       "        89000.,  33000.,  25000.,  62000., 138000.,  47000.,  26000.,\n",
       "       174000.,  41000.,  99000., 117000., 225000.,  36000., 146000.,\n",
       "       113000., 168000., 122000.,  96000.,  49000.,  68000., 127000.,\n",
       "        71000., 240000., 152000., 119000., 131000., 101000., 137000.,\n",
       "       112000.,  91000., 179000.,  74000., 228000.,  37000., 204000.,\n",
       "        61000., 157000.,  52000.,  58000., 219000.,  77000., 104000.,\n",
       "       183000.,  43000.,  48000.,  42000.,    500.,  57000.,  72000.,\n",
       "        31000.,  28000., 215000.])"
      ]
     },
     "execution_count": 11,
     "metadata": {},
     "output_type": "execute_result"
    }
   ],
   "source": [
    "salaryData[\"Salary\"].unique()"
   ]
  },
  {
   "cell_type": "markdown",
   "metadata": {},
   "source": [
    "Here we use the value_counts method to figure out the number of occurences for each unique salary"
   ]
  },
  {
   "cell_type": "code",
   "execution_count": 12,
   "metadata": {},
   "outputs": [
    {
     "data": {
      "text/plain": [
       "Salary\n",
       "140000.0    287\n",
       "120000.0    282\n",
       "160000.0    276\n",
       "55000.0     251\n",
       "60000.0     231\n",
       "           ... \n",
       "68732.0       1\n",
       "187951.0      1\n",
       "137336.0      1\n",
       "191159.0      1\n",
       "143705.0      1\n",
       "Name: count, Length: 437, dtype: int64"
      ]
     },
     "execution_count": 12,
     "metadata": {},
     "output_type": "execute_result"
    }
   ],
   "source": [
    "salaryData[\"Salary\"].value_counts()"
   ]
  },
  {
   "cell_type": "markdown",
   "metadata": {},
   "source": [
    "Here we can see that the lowest value should be $350 and the highest should be $250,000"
   ]
  },
  {
   "cell_type": "code",
   "execution_count": 13,
   "metadata": {},
   "outputs": [
    {
     "data": {
      "text/plain": [
       "258        350.0\n",
       "4615       500.0\n",
       "1888       550.0\n",
       "2640       579.0\n",
       "4488     25000.0\n",
       "          ...   \n",
       "4258    240000.0\n",
       "4363    240000.0\n",
       "4983    250000.0\n",
       "83      250000.0\n",
       "30      250000.0\n",
       "Name: Salary, Length: 6684, dtype: float64"
      ]
     },
     "execution_count": 13,
     "metadata": {},
     "output_type": "execute_result"
    }
   ],
   "source": [
    "sortedSalary = salaryData[\"Salary\"].sort_values()\n",
    "sortedSalary"
   ]
  },
  {
   "cell_type": "markdown",
   "metadata": {},
   "source": [
    "Plugging in the sorted salary data, we see what we expect from our data in the histogram"
   ]
  },
  {
   "cell_type": "code",
   "execution_count": 14,
   "metadata": {},
   "outputs": [
    {
     "data": {
      "text/plain": [
       "<Axes: xlabel='Salary', ylabel='Count'>"
      ]
     },
     "execution_count": 14,
     "metadata": {},
     "output_type": "execute_result"
    },
    {
     "data": {
      "image/png": "[encoded data removed]",
      "text/plain": [
       "<Figure size 640x480 with 1 Axes>"
      ]
     },
     "metadata": {},
     "output_type": "display_data"
    }
   ],
   "source": [
    "seaborn.histplot(data = sortedSalary)"
   ]
  },
  {
   "cell_type": "markdown",
   "metadata": {},
   "source": [
    "# Question 2: __Make a pie chart of the top 10 job titles in the data set. Which job title appears the most common?__"
   ]
  },
  {
   "cell_type": "markdown",
   "metadata": {},
   "source": [
    "To answer the second part of this question we can use the value_counts() method again."
   ]
  },
  {
   "cell_type": "code",
   "execution_count": 15,
   "id": "7bddff60",
   "metadata": {},
   "outputs": [
    {
     "data": {
      "text/plain": [
       "Job Title\n",
       "Software Engineer            809\n",
       "Data Scientist               515\n",
       "Data Analyst                 391\n",
       "Software Engineer Manager    376\n",
       "Product Manager              323\n",
       "Project Engineer             317\n",
       "Marketing Manager            315\n",
       "Full Stack Engineer          304\n",
       "Back end Developer           242\n",
       "Front end Developer          239\n",
       "Name: count, dtype: int64"
      ]
     },
     "execution_count": 15,
     "metadata": {},
     "output_type": "execute_result"
    }
   ],
   "source": [
    "TopSortedJobTitles = salaryData[\"Job Title\"].value_counts().head(10)\n",
    "TopSortedJobTitles"
   ]
  },
  {
   "cell_type": "markdown",
   "id": "2a0576b9",
   "metadata": {},
   "source": [
    "We see here that being a software engineer is the most popular job title.\n",
    "Notice that the job titles have now turned into the index of this list."
   ]
  },
  {
   "cell_type": "markdown",
   "id": "b979bc9c",
   "metadata": {},
   "source": [
    "Using the following method, we can figure out all of the unique job titles in the dataset."
   ]
  },
  {
   "cell_type": "code",
   "execution_count": 16,
   "id": "24b4df57",
   "metadata": {},
   "outputs": [
    {
     "data": {
      "text/plain": [
       "array(['Software Engineer', 'Data Analyst', 'Manager', 'Sales Associate',\n",
       "       'Director', 'Marketing Analyst', 'Product Manager',\n",
       "       'Sales Manager', 'Marketing Coordinator', 'Scientist',\n",
       "       'Software Developer', 'HR Manager', 'Financial Analyst',\n",
       "       'Project Manager', 'Customer Service Rep', 'Operations Manager',\n",
       "       'Marketing Manager', 'Engineer', 'Data Entry Clerk',\n",
       "       'Sales Director', 'Business Analyst', 'VP of Operations',\n",
       "       'IT Support', 'Recruiter', 'Financial Manager',\n",
       "       'Social Media Specialist', 'Software Manager', 'Developer',\n",
       "       'Consultant', 'Product Designer', 'CEO', 'Accountant',\n",
       "       'Data Scientist', 'Marketing Specialist', 'Technical Writer',\n",
       "       'HR Generalist', 'Project Engineer', 'Customer Success Rep',\n",
       "       'Sales Executive', 'UX Designer', 'Operations Director',\n",
       "       'Network Engineer', 'Administrative Assistant',\n",
       "       'Strategy Consultant', 'Copywriter', 'Account Manager',\n",
       "       'Director of Marketing', 'Help Desk Analyst',\n",
       "       'Customer Service Manager', 'Business Intelligence Analyst',\n",
       "       'Event Coordinator', 'VP of Finance', 'Graphic Designer',\n",
       "       'UX Researcher', 'Social Media Manager', 'Director of Operations',\n",
       "       'Digital Marketing Manager', 'IT Manager',\n",
       "       'Customer Service Representative', 'Business Development Manager',\n",
       "       'Web Developer', 'Research Director',\n",
       "       'Technical Support Specialist', 'Creative Director',\n",
       "       'Human Resources Director', 'Content Marketing Manager',\n",
       "       'Technical Recruiter', 'Sales Representative',\n",
       "       'Chief Technology Officer', 'Designer', 'Financial Advisor',\n",
       "       'Principal Scientist', 'Supply Chain Manager',\n",
       "       'Training Specialist', 'Research Scientist',\n",
       "       'Public Relations Manager', 'Operations Analyst',\n",
       "       'Product Marketing Manager', 'Project Coordinator',\n",
       "       'Chief Data Officer', 'Digital Content Producer',\n",
       "       'IT Support Specialist', 'Customer Success Manager',\n",
       "       'Software Project Manager', 'Supply Chain Analyst',\n",
       "       'Office Manager', 'Principal Engineer', 'Sales Operations Manager',\n",
       "       'Web Designer', 'Director of Sales', 'Customer Support Specialist',\n",
       "       'Director of Human Resources', 'Director of Product Management',\n",
       "       'Human Resources Manager', 'Business Development Associate',\n",
       "       'Researcher', 'HR Coordinator', 'Director of Finance',\n",
       "       'Human Resources Coordinator', 'IT Project Manager',\n",
       "       'Quality Assurance Analyst', 'Director of Sales and Marketing',\n",
       "       'Account Executive', 'Director of Business Development',\n",
       "       'Human Resources Specialist', 'Director of Human Capital',\n",
       "       'Advertising Coordinator', 'Marketing Director', 'IT Consultant',\n",
       "       'Business Operations Analyst', 'Product Development Manager',\n",
       "       'Software Architect', 'HR Specialist', 'Data Engineer',\n",
       "       'Operations Coordinator', 'Director of HR',\n",
       "       'Director of Engineering', 'Software Engineer Manager',\n",
       "       'Back end Developer', 'Full Stack Engineer', 'Front end Developer',\n",
       "       'Front End Developer', 'Director of Data Science',\n",
       "       'Juniour HR Generalist', 'Juniour HR Coordinator',\n",
       "       'Digital Marketing Specialist', 'Receptionist', 'Social Media Man',\n",
       "       'Delivery Driver'], dtype=object)"
      ]
     },
     "execution_count": 16,
     "metadata": {},
     "output_type": "execute_result"
    }
   ],
   "source": [
    "salaryData[\"Job Title\"].unique()"
   ]
  },
  {
   "cell_type": "code",
   "execution_count": 17,
   "id": "e88ede3b",
   "metadata": {},
   "outputs": [
    {
     "data": {
      "text/plain": [
       "'Software EngineerData AnalystManagerSales AssociateDirectorMarketing AnalystProduct ManagerSales ManagerMarketing CoordinatorScientistSoftware DeveloperHR ManagerFinancial AnalystProject ManagerCustomer Service RepOperations ManagerMarketing ManagerEngineerData Entry ClerkSales DirectorBusiness AnalystVP of OperationsIT SupportRecruiterFinancial ManagerSocial Media SpecialistSoftware ManagerDeveloperConsultantProduct DesignerCEOAccountantData ScientistMarketing SpecialistTechnical WriterHR GeneralistProject EngineerCustomer Success RepSales ExecutiveUX DesignerOperations DirectorNetwork EngineerAdministrative AssistantStrategy ConsultantCopywriterAccount ManagerDirector of MarketingHelp Desk AnalystCustomer Service ManagerBusiness Intelligence AnalystEvent CoordinatorVP of FinanceGraphic DesignerUX ResearcherSocial Media ManagerDirector of OperationsDigital Marketing ManagerIT ManagerCustomer Service RepresentativeBusiness Development ManagerWeb DeveloperResearch DirectorTechnical Support SpecialistCreative DirectorHuman Resources DirectorContent Marketing ManagerTechnical RecruiterSales RepresentativeChief Technology OfficerDesignerFinancial AdvisorPrincipal ScientistSupply Chain ManagerTraining SpecialistResearch ScientistPublic Relations ManagerOperations AnalystProduct Marketing ManagerProject CoordinatorChief Data OfficerDigital Content ProducerIT Support SpecialistCustomer Success ManagerSoftware Project ManagerSupply Chain AnalystOffice ManagerPrincipal EngineerSales Operations ManagerWeb DesignerDirector of SalesCustomer Support SpecialistDirector of Human ResourcesDirector of Product ManagementHuman Resources ManagerBusiness Development AssociateResearcherHR CoordinatorDirector of FinanceHuman Resources CoordinatorIT Project ManagerQuality Assurance AnalystDirector of Sales and MarketingAccount ExecutiveDirector of Business DevelopmentHuman Resources SpecialistDirector of Human CapitalAdvertising CoordinatorMarketing DirectorIT ConsultantBusiness Operations AnalystProduct Development ManagerSoftware ArchitectHR SpecialistData EngineerOperations CoordinatorDirector of HRDirector of EngineeringSoftware Engineer ManagerBack end DeveloperFull Stack EngineerFront end DeveloperFront End DeveloperDirector of Data ScienceJuniour HR GeneralistJuniour HR CoordinatorDigital Marketing SpecialistReceptionistSocial Media ManDelivery Driver'"
      ]
     },
     "execution_count": 17,
     "metadata": {},
     "output_type": "execute_result"
    }
   ],
   "source": [
    "salaryData[\"Job Title\"].unique().sum()"
   ]
  },
  {
   "cell_type": "markdown",
   "id": "afb87f89",
   "metadata": {},
   "source": [
    "Finally we can use MatPlotLib's pie chart method to make a pie chart of all the most popular jobs in the dataset."
   ]
  },
  {
   "cell_type": "code",
   "execution_count": 18,
   "id": "4cf7b6b0",
   "metadata": {},
   "outputs": [
    {
     "data": {
      "text/plain": [
       "([<matplotlib.patches.Wedge at 0x20a7b683850>,\n",
       "  <matplotlib.patches.Wedge at 0x20a7b7c9a10>,\n",
       "  <matplotlib.patches.Wedge at 0x20a7b7d6950>,\n",
       "  <matplotlib.patches.Wedge at 0x20a7b7d7ad0>,\n",
       "  <matplotlib.patches.Wedge at 0x20a7b7e1290>,\n",
       "  <matplotlib.patches.Wedge at 0x20a7b7e28d0>,\n",
       "  <matplotlib.patches.Wedge at 0x20a7b7e3bd0>,\n",
       "  <matplotlib.patches.Wedge at 0x20a7b7e9090>,\n",
       "  <matplotlib.patches.Wedge at 0x20a7b7ea450>,\n",
       "  <matplotlib.patches.Wedge at 0x20a7b7e26d0>],\n",
       " [Text(0.8666822367297109, 0.6773934606542831, 'Software Engineer'),\n",
       "  Text(-0.19515716161186375, 1.0825496211590493, 'Data Scientist'),\n",
       "  Text(-0.8760410675747211, 0.6652458552464217, 'Data Analyst'),\n",
       "  Text(-1.099768844737307, 0.022549681708820612, 'Software Engineer Manager'),\n",
       "  Text(-0.9362151886316381, -0.5774955589226869, 'Product Manager'),\n",
       "  Text(-0.5208469542753832, -0.9688748372323729, 'Project Engineer'),\n",
       "  Text(0.02750965142304239, -1.0996559548688776, 'Marketing Manager'),\n",
       "  Text(0.5585706736682331, -0.9476279874074091, 'Full Stack Engineer'),\n",
       "  Text(0.9137699894119115, -0.6123923631546653, 'Back end Developer'),\n",
       "  Text(1.0789407249542704, -0.2142123059843989, 'Front end Developer')])"
      ]
     },
     "execution_count": 18,
     "metadata": {},
     "output_type": "execute_result"
    },
    {
     "data": {
      "image/png": "[encoded data removed]",
      "text/plain": [
       "<Figure size 640x480 with 1 Axes>"
      ]
     },
     "metadata": {},
     "output_type": "display_data"
    }
   ],
   "source": [
    "plt.pie(TopSortedJobTitles, labels=TopSortedJobTitles.index)"
   ]
  },
  {
   "cell_type": "markdown",
   "id": "c99907b7",
   "metadata": {},
   "source": [
    "# Question 3: __What are the top jobs for each gender?__"
   ]
  },
  {
   "cell_type": "code",
   "execution_count": 19,
   "id": "f3cfc81b",
   "metadata": {},
   "outputs": [
    {
     "data": {
      "text/plain": [
       "array(['Male', 'Female'], dtype=object)"
      ]
     },
     "execution_count": 19,
     "metadata": {},
     "output_type": "execute_result"
    }
   ],
   "source": [
    "salaryData[\"Gender\"].unique()"
   ]
  },
  {
   "cell_type": "markdown",
   "id": "11c618f4",
   "metadata": {},
   "source": [
    "First we separate the male and female data"
   ]
  },
  {
   "cell_type": "code",
   "execution_count": 20,
   "id": "2d78633f",
   "metadata": {},
   "outputs": [],
   "source": [
    "MaleData = salaryData.loc[salaryData[\"Gender\"] == \"Male\"]\n",
    "FemaleData = salaryData.loc[salaryData[\"Gender\"] == \"Female\"]"
   ]
  },
  {
   "cell_type": "markdown",
   "id": "f52a33e0",
   "metadata": {},
   "source": [
    "Now we check the top jobs for each gender."
   ]
  },
  {
   "cell_type": "code",
   "execution_count": 42,
   "id": "c4ee5173",
   "metadata": {},
   "outputs": [
    {
     "data": {
      "text/plain": [
       "Job Title\n",
       "Software Engineer            486\n",
       "Data Scientist               308\n",
       "Software Engineer Manager    276\n",
       "Data Analyst                 262\n",
       "Product Manager              218\n",
       "Project Engineer             214\n",
       "Back end Developer           177\n",
       "Full Stack Engineer          141\n",
       "Front end Developer          132\n",
       "Operations Manager           117\n",
       "Sales Associate              101\n",
       "Marketing Manager             98\n",
       "Software Developer            87\n",
       "Marketing Analyst             84\n",
       "Product Designer              75\n",
       "Web Developer                 72\n",
       "Sales Director                57\n",
       "Marketing Director            50\n",
       "HR Generalist                 49\n",
       "Research Director             46\n",
       "Name: count, dtype: int64"
      ]
     },
     "execution_count": 42,
     "metadata": {},
     "output_type": "execute_result"
    }
   ],
   "source": [
    "TopMaleJobTitles = MaleData[\"Job Title\"].value_counts().head(20)\n",
    "TopMaleJobTitles"
   ]
  },
  {
   "cell_type": "code",
   "execution_count": 41,
   "id": "373a398a",
   "metadata": {},
   "outputs": [
    {
     "data": {
      "text/plain": [
       "Job Title\n",
       "Software Engineer            323\n",
       "Marketing Manager            217\n",
       "Data Scientist               207\n",
       "Full Stack Engineer          163\n",
       "Marketing Coordinator        162\n",
       "Human Resources Manager      131\n",
       "Data Analyst                 129\n",
       "Sales Associate              111\n",
       "Front end Developer          107\n",
       "Financial Manager            106\n",
       "Product Manager              105\n",
       "Project Engineer             103\n",
       "Software Engineer Manager    100\n",
       "Software Developer            99\n",
       "Research Scientist            76\n",
       "Back end Developer            65\n",
       "Marketing Analyst             60\n",
       "Web Developer                 57\n",
       "Receptionist                  57\n",
       "HR Generalist                 55\n",
       "Name: count, dtype: int64"
      ]
     },
     "execution_count": 41,
     "metadata": {},
     "output_type": "execute_result"
    }
   ],
   "source": [
    "TopFemaleJobTitles = FemaleData[\"Job Title\"].value_counts().head(20)\n",
    "TopFemaleJobTitles"
   ]
  },
  {
   "cell_type": "code",
   "execution_count": 43,
   "id": "4efb2bb4",
   "metadata": {},
   "outputs": [
    {
     "name": "stderr",
     "output_type": "stream",
     "text": [
      "C:\\Users\\Abhijay\\AppData\\Local\\Temp\\ipykernel_6056\\234507342.py:1: FutureWarning: Operation between non boolean Series with different indexes will no longer return a boolean result in a future version. Cast both Series to object type to maintain the prior behavior.\n",
      "  TopFemaleJobTitles & TopMaleJobTitles\n"
     ]
    },
    {
     "data": {
      "text/plain": [
       "Job Title\n",
       "Back end Developer            True\n",
       "Data Analyst                 False\n",
       "Data Scientist                True\n",
       "Financial Manager            False\n",
       "Front end Developer          False\n",
       "Full Stack Engineer           True\n",
       "HR Generalist                 True\n",
       "Human Resources Manager      False\n",
       "Marketing Analyst             True\n",
       "Marketing Coordinator        False\n",
       "Marketing Director           False\n",
       "Marketing Manager             True\n",
       "Operations Manager           False\n",
       "Product Designer             False\n",
       "Product Manager               True\n",
       "Project Engineer              True\n",
       "Receptionist                 False\n",
       "Research Director            False\n",
       "Research Scientist           False\n",
       "Sales Associate               True\n",
       "Sales Director               False\n",
       "Software Developer            True\n",
       "Software Engineer             True\n",
       "Software Engineer Manager     True\n",
       "Web Developer                 True\n",
       "Name: count, dtype: bool"
      ]
     },
     "execution_count": 43,
     "metadata": {},
     "output_type": "execute_result"
    }
   ],
   "source": [
    "TopFemaleJobTitles & TopMaleJobTitles"
   ]
  },
  {
   "cell_type": "markdown",
   "id": "362e9456",
   "metadata": {},
   "source": [
    "# Question 4: __What is the correlation between gender and salary?__"
   ]
  },
  {
   "cell_type": "code",
   "execution_count": 23,
   "id": "3acf3c2f",
   "metadata": {},
   "outputs": [
    {
     "data": {
      "text/plain": [
       "120000.0"
      ]
     },
     "execution_count": 23,
     "metadata": {},
     "output_type": "execute_result"
    }
   ],
   "source": [
    "MaleData[\"Salary\"].median()"
   ]
  },
  {
   "cell_type": "code",
   "execution_count": 24,
   "id": "80fee461",
   "metadata": {},
   "outputs": [
    {
     "data": {
      "text/plain": [
       "121395.69763007356"
      ]
     },
     "execution_count": 24,
     "metadata": {},
     "output_type": "execute_result"
    }
   ],
   "source": [
    "MaleData[\"Salary\"].mean()"
   ]
  },
  {
   "cell_type": "code",
   "execution_count": 25,
   "id": "cbecd486",
   "metadata": {},
   "outputs": [
    {
     "data": {
      "text/plain": [
       "250000.0"
      ]
     },
     "execution_count": 25,
     "metadata": {},
     "output_type": "execute_result"
    }
   ],
   "source": [
    "MaleData[\"Salary\"].max()"
   ]
  },
  {
   "cell_type": "code",
   "execution_count": 26,
   "id": "677fe724",
   "metadata": {},
   "outputs": [
    {
     "data": {
      "text/plain": [
       "105000.0"
      ]
     },
     "execution_count": 26,
     "metadata": {},
     "output_type": "execute_result"
    }
   ],
   "source": [
    "FemaleData[\"Salary\"].median()"
   ]
  },
  {
   "cell_type": "code",
   "execution_count": 27,
   "id": "79a52ebe",
   "metadata": {},
   "outputs": [
    {
     "data": {
      "text/plain": [
       "107888.99867241952"
      ]
     },
     "execution_count": 27,
     "metadata": {},
     "output_type": "execute_result"
    }
   ],
   "source": [
    "FemaleData[\"Salary\"].mean()"
   ]
  },
  {
   "cell_type": "code",
   "execution_count": 28,
   "id": "1cb7c199",
   "metadata": {},
   "outputs": [
    {
     "data": {
      "text/plain": [
       "220000.0"
      ]
     },
     "execution_count": 28,
     "metadata": {},
     "output_type": "execute_result"
    }
   ],
   "source": [
    "FemaleData[\"Salary\"].max()"
   ]
  },
  {
   "cell_type": "markdown",
   "id": "301f6d8c",
   "metadata": {},
   "source": [
    "Using a somewhat naive approach we are already able to see a discrepancy between the salaries of either gender. However we can look into this further by sorting the data by other factors like Job Titles or Age."
   ]
  },
  {
   "cell_type": "code",
   "execution_count": 29,
   "id": "d00b367a",
   "metadata": {},
   "outputs": [
    {
     "data": {
      "text/html": [
       "<div>\n",
       "<style scoped>\n",
       "    .dataframe tbody tr th:only-of-type {\n",
       "        vertical-align: middle;\n",
       "    }\n",
       "\n",
       "    .dataframe tbody tr th {\n",
       "        vertical-align: top;\n",
       "    }\n",
       "\n",
       "    .dataframe thead th {\n",
       "        text-align: right;\n",
       "    }\n",
       "</style>\n",
       "<table border=\"1\" class=\"dataframe\">\n",
       "  <thead>\n",
       "    <tr style=\"text-align: right;\">\n",
       "      <th></th>\n",
       "      <th>Age</th>\n",
       "      <th>Gender</th>\n",
       "      <th>Education Level</th>\n",
       "      <th>Job Title</th>\n",
       "      <th>Years of Experience</th>\n",
       "      <th>Salary</th>\n",
       "      <th>Country</th>\n",
       "      <th>Race</th>\n",
       "      <th>Senior</th>\n",
       "    </tr>\n",
       "  </thead>\n",
       "  <tbody>\n",
       "    <tr>\n",
       "      <th>0</th>\n",
       "      <td>32.0</td>\n",
       "      <td>Male</td>\n",
       "      <td>1</td>\n",
       "      <td>Software Engineer</td>\n",
       "      <td>5.0</td>\n",
       "      <td>90000.0</td>\n",
       "      <td>UK</td>\n",
       "      <td>White</td>\n",
       "      <td>0</td>\n",
       "    </tr>\n",
       "    <tr>\n",
       "      <th>77</th>\n",
       "      <td>32.0</td>\n",
       "      <td>Male</td>\n",
       "      <td>2</td>\n",
       "      <td>Software Engineer</td>\n",
       "      <td>6.0</td>\n",
       "      <td>100000.0</td>\n",
       "      <td>USA</td>\n",
       "      <td>African American</td>\n",
       "      <td>1</td>\n",
       "    </tr>\n",
       "    <tr>\n",
       "      <th>159</th>\n",
       "      <td>28.0</td>\n",
       "      <td>Male</td>\n",
       "      <td>1</td>\n",
       "      <td>Software Engineer</td>\n",
       "      <td>2.0</td>\n",
       "      <td>40000.0</td>\n",
       "      <td>Australia</td>\n",
       "      <td>White</td>\n",
       "      <td>0</td>\n",
       "    </tr>\n",
       "    <tr>\n",
       "      <th>169</th>\n",
       "      <td>34.0</td>\n",
       "      <td>Male</td>\n",
       "      <td>2</td>\n",
       "      <td>Software Engineer</td>\n",
       "      <td>9.0</td>\n",
       "      <td>105000.0</td>\n",
       "      <td>China</td>\n",
       "      <td>Korean</td>\n",
       "      <td>1</td>\n",
       "    </tr>\n",
       "    <tr>\n",
       "      <th>213</th>\n",
       "      <td>44.0</td>\n",
       "      <td>Male</td>\n",
       "      <td>1</td>\n",
       "      <td>Software Engineer</td>\n",
       "      <td>14.0</td>\n",
       "      <td>130000.0</td>\n",
       "      <td>China</td>\n",
       "      <td>Chinese</td>\n",
       "      <td>1</td>\n",
       "    </tr>\n",
       "    <tr>\n",
       "      <th>...</th>\n",
       "      <td>...</td>\n",
       "      <td>...</td>\n",
       "      <td>...</td>\n",
       "      <td>...</td>\n",
       "      <td>...</td>\n",
       "      <td>...</td>\n",
       "      <td>...</td>\n",
       "      <td>...</td>\n",
       "      <td>...</td>\n",
       "    </tr>\n",
       "    <tr>\n",
       "      <th>6172</th>\n",
       "      <td>27.0</td>\n",
       "      <td>Male</td>\n",
       "      <td>1</td>\n",
       "      <td>Software Engineer</td>\n",
       "      <td>3.0</td>\n",
       "      <td>80000.0</td>\n",
       "      <td>USA</td>\n",
       "      <td>Asian</td>\n",
       "      <td>0</td>\n",
       "    </tr>\n",
       "    <tr>\n",
       "      <th>6186</th>\n",
       "      <td>27.0</td>\n",
       "      <td>Male</td>\n",
       "      <td>1</td>\n",
       "      <td>Software Engineer</td>\n",
       "      <td>3.0</td>\n",
       "      <td>80000.0</td>\n",
       "      <td>China</td>\n",
       "      <td>Korean</td>\n",
       "      <td>0</td>\n",
       "    </tr>\n",
       "    <tr>\n",
       "      <th>6200</th>\n",
       "      <td>27.0</td>\n",
       "      <td>Male</td>\n",
       "      <td>1</td>\n",
       "      <td>Software Engineer</td>\n",
       "      <td>3.0</td>\n",
       "      <td>80000.0</td>\n",
       "      <td>Australia</td>\n",
       "      <td>White</td>\n",
       "      <td>0</td>\n",
       "    </tr>\n",
       "    <tr>\n",
       "      <th>6214</th>\n",
       "      <td>27.0</td>\n",
       "      <td>Male</td>\n",
       "      <td>1</td>\n",
       "      <td>Software Engineer</td>\n",
       "      <td>3.0</td>\n",
       "      <td>80000.0</td>\n",
       "      <td>Australia</td>\n",
       "      <td>Asian</td>\n",
       "      <td>0</td>\n",
       "    </tr>\n",
       "    <tr>\n",
       "      <th>6228</th>\n",
       "      <td>27.0</td>\n",
       "      <td>Male</td>\n",
       "      <td>1</td>\n",
       "      <td>Software Engineer</td>\n",
       "      <td>3.0</td>\n",
       "      <td>80000.0</td>\n",
       "      <td>UK</td>\n",
       "      <td>Mixed</td>\n",
       "      <td>0</td>\n",
       "    </tr>\n",
       "  </tbody>\n",
       "</table>\n",
       "<p>486 rows × 9 columns</p>\n",
       "</div>"
      ],
      "text/plain": [
       "       Age Gender  Education Level          Job Title  Years of Experience  \\\n",
       "0     32.0   Male                1  Software Engineer                  5.0   \n",
       "77    32.0   Male                2  Software Engineer                  6.0   \n",
       "159   28.0   Male                1  Software Engineer                  2.0   \n",
       "169   34.0   Male                2  Software Engineer                  9.0   \n",
       "213   44.0   Male                1  Software Engineer                 14.0   \n",
       "...    ...    ...              ...                ...                  ...   \n",
       "6172  27.0   Male                1  Software Engineer                  3.0   \n",
       "6186  27.0   Male                1  Software Engineer                  3.0   \n",
       "6200  27.0   Male                1  Software Engineer                  3.0   \n",
       "6214  27.0   Male                1  Software Engineer                  3.0   \n",
       "6228  27.0   Male                1  Software Engineer                  3.0   \n",
       "\n",
       "        Salary    Country              Race  Senior  \n",
       "0      90000.0         UK             White       0  \n",
       "77    100000.0        USA  African American       1  \n",
       "159    40000.0  Australia             White       0  \n",
       "169   105000.0      China            Korean       1  \n",
       "213   130000.0      China           Chinese       1  \n",
       "...        ...        ...               ...     ...  \n",
       "6172   80000.0        USA             Asian       0  \n",
       "6186   80000.0      China            Korean       0  \n",
       "6200   80000.0  Australia             White       0  \n",
       "6214   80000.0  Australia             Asian       0  \n",
       "6228   80000.0         UK             Mixed       0  \n",
       "\n",
       "[486 rows x 9 columns]"
      ]
     },
     "execution_count": 29,
     "metadata": {},
     "output_type": "execute_result"
    }
   ],
   "source": [
    "MaleSEData = salaryData[(salaryData[\"Gender\"] == \"Male\") & (salaryData[\"Job Title\"] == \"Software Engineer\")]\n",
    "MaleSEData"
   ]
  },
  {
   "cell_type": "markdown",
   "id": "04ba5058",
   "metadata": {},
   "source": [
    "Using the most popular job title as an example: *Software Engineer*."
   ]
  },
  {
   "cell_type": "code",
   "execution_count": 30,
   "id": "73449cde",
   "metadata": {},
   "outputs": [
    {
     "data": {
      "text/html": [
       "<div>\n",
       "<style scoped>\n",
       "    .dataframe tbody tr th:only-of-type {\n",
       "        vertical-align: middle;\n",
       "    }\n",
       "\n",
       "    .dataframe tbody tr th {\n",
       "        vertical-align: top;\n",
       "    }\n",
       "\n",
       "    .dataframe thead th {\n",
       "        text-align: right;\n",
       "    }\n",
       "</style>\n",
       "<table border=\"1\" class=\"dataframe\">\n",
       "  <thead>\n",
       "    <tr style=\"text-align: right;\">\n",
       "      <th></th>\n",
       "      <th>Age</th>\n",
       "      <th>Gender</th>\n",
       "      <th>Education Level</th>\n",
       "      <th>Job Title</th>\n",
       "      <th>Years of Experience</th>\n",
       "      <th>Salary</th>\n",
       "      <th>Country</th>\n",
       "      <th>Race</th>\n",
       "      <th>Senior</th>\n",
       "    </tr>\n",
       "  </thead>\n",
       "  <tbody>\n",
       "    <tr>\n",
       "      <th>374</th>\n",
       "      <td>28.0</td>\n",
       "      <td>Female</td>\n",
       "      <td>1</td>\n",
       "      <td>Software Engineer</td>\n",
       "      <td>3.0</td>\n",
       "      <td>125000.0</td>\n",
       "      <td>Canada</td>\n",
       "      <td>Black</td>\n",
       "      <td>0</td>\n",
       "    </tr>\n",
       "    <tr>\n",
       "      <th>378</th>\n",
       "      <td>29.0</td>\n",
       "      <td>Female</td>\n",
       "      <td>1</td>\n",
       "      <td>Software Engineer</td>\n",
       "      <td>4.0</td>\n",
       "      <td>140000.0</td>\n",
       "      <td>Australia</td>\n",
       "      <td>White</td>\n",
       "      <td>0</td>\n",
       "    </tr>\n",
       "    <tr>\n",
       "      <th>382</th>\n",
       "      <td>31.0</td>\n",
       "      <td>Female</td>\n",
       "      <td>1</td>\n",
       "      <td>Software Engineer</td>\n",
       "      <td>6.0</td>\n",
       "      <td>155000.0</td>\n",
       "      <td>UK</td>\n",
       "      <td>Welsh</td>\n",
       "      <td>0</td>\n",
       "    </tr>\n",
       "    <tr>\n",
       "      <th>386</th>\n",
       "      <td>29.0</td>\n",
       "      <td>Female</td>\n",
       "      <td>1</td>\n",
       "      <td>Software Engineer</td>\n",
       "      <td>4.0</td>\n",
       "      <td>140000.0</td>\n",
       "      <td>USA</td>\n",
       "      <td>Hispanic</td>\n",
       "      <td>0</td>\n",
       "    </tr>\n",
       "    <tr>\n",
       "      <th>390</th>\n",
       "      <td>31.0</td>\n",
       "      <td>Female</td>\n",
       "      <td>1</td>\n",
       "      <td>Software Engineer</td>\n",
       "      <td>6.0</td>\n",
       "      <td>155000.0</td>\n",
       "      <td>UK</td>\n",
       "      <td>Welsh</td>\n",
       "      <td>0</td>\n",
       "    </tr>\n",
       "    <tr>\n",
       "      <th>...</th>\n",
       "      <td>...</td>\n",
       "      <td>...</td>\n",
       "      <td>...</td>\n",
       "      <td>...</td>\n",
       "      <td>...</td>\n",
       "      <td>...</td>\n",
       "      <td>...</td>\n",
       "      <td>...</td>\n",
       "      <td>...</td>\n",
       "    </tr>\n",
       "    <tr>\n",
       "      <th>4853</th>\n",
       "      <td>33.0</td>\n",
       "      <td>Female</td>\n",
       "      <td>2</td>\n",
       "      <td>Software Engineer</td>\n",
       "      <td>8.0</td>\n",
       "      <td>105000.0</td>\n",
       "      <td>USA</td>\n",
       "      <td>African American</td>\n",
       "      <td>1</td>\n",
       "    </tr>\n",
       "    <tr>\n",
       "      <th>4857</th>\n",
       "      <td>27.0</td>\n",
       "      <td>Female</td>\n",
       "      <td>1</td>\n",
       "      <td>Software Engineer</td>\n",
       "      <td>2.0</td>\n",
       "      <td>48000.0</td>\n",
       "      <td>UK</td>\n",
       "      <td>Mixed</td>\n",
       "      <td>0</td>\n",
       "    </tr>\n",
       "    <tr>\n",
       "      <th>5866</th>\n",
       "      <td>32.0</td>\n",
       "      <td>Female</td>\n",
       "      <td>2</td>\n",
       "      <td>Software Engineer</td>\n",
       "      <td>9.0</td>\n",
       "      <td>120000.0</td>\n",
       "      <td>Australia</td>\n",
       "      <td>White</td>\n",
       "      <td>0</td>\n",
       "    </tr>\n",
       "    <tr>\n",
       "      <th>5993</th>\n",
       "      <td>33.0</td>\n",
       "      <td>Female</td>\n",
       "      <td>2</td>\n",
       "      <td>Software Engineer</td>\n",
       "      <td>8.0</td>\n",
       "      <td>120000.0</td>\n",
       "      <td>UK</td>\n",
       "      <td>Mixed</td>\n",
       "      <td>0</td>\n",
       "    </tr>\n",
       "    <tr>\n",
       "      <th>6114</th>\n",
       "      <td>26.0</td>\n",
       "      <td>Female</td>\n",
       "      <td>2</td>\n",
       "      <td>Software Engineer</td>\n",
       "      <td>2.0</td>\n",
       "      <td>75000.0</td>\n",
       "      <td>China</td>\n",
       "      <td>Korean</td>\n",
       "      <td>0</td>\n",
       "    </tr>\n",
       "  </tbody>\n",
       "</table>\n",
       "<p>323 rows × 9 columns</p>\n",
       "</div>"
      ],
      "text/plain": [
       "       Age  Gender  Education Level          Job Title  Years of Experience  \\\n",
       "374   28.0  Female                1  Software Engineer                  3.0   \n",
       "378   29.0  Female                1  Software Engineer                  4.0   \n",
       "382   31.0  Female                1  Software Engineer                  6.0   \n",
       "386   29.0  Female                1  Software Engineer                  4.0   \n",
       "390   31.0  Female                1  Software Engineer                  6.0   \n",
       "...    ...     ...              ...                ...                  ...   \n",
       "4853  33.0  Female                2  Software Engineer                  8.0   \n",
       "4857  27.0  Female                1  Software Engineer                  2.0   \n",
       "5866  32.0  Female                2  Software Engineer                  9.0   \n",
       "5993  33.0  Female                2  Software Engineer                  8.0   \n",
       "6114  26.0  Female                2  Software Engineer                  2.0   \n",
       "\n",
       "        Salary    Country              Race  Senior  \n",
       "374   125000.0     Canada             Black       0  \n",
       "378   140000.0  Australia             White       0  \n",
       "382   155000.0         UK             Welsh       0  \n",
       "386   140000.0        USA          Hispanic       0  \n",
       "390   155000.0         UK             Welsh       0  \n",
       "...        ...        ...               ...     ...  \n",
       "4853  105000.0        USA  African American       1  \n",
       "4857   48000.0         UK             Mixed       0  \n",
       "5866  120000.0  Australia             White       0  \n",
       "5993  120000.0         UK             Mixed       0  \n",
       "6114   75000.0      China            Korean       0  \n",
       "\n",
       "[323 rows x 9 columns]"
      ]
     },
     "execution_count": 30,
     "metadata": {},
     "output_type": "execute_result"
    }
   ],
   "source": [
    "FemaleSEData = salaryData[(salaryData[\"Gender\"] == \"Female\") & (salaryData[\"Job Title\"] == \"Software Engineer\")]\n",
    "FemaleSEData"
   ]
  },
  {
   "cell_type": "code",
   "execution_count": 31,
   "id": "54c7ec10",
   "metadata": {},
   "outputs": [
    {
     "data": {
      "text/plain": [
       "110688.39628482972"
      ]
     },
     "execution_count": 31,
     "metadata": {},
     "output_type": "execute_result"
    }
   ],
   "source": [
    "FemaleSEData[\"Salary\"].mean()"
   ]
  },
  {
   "cell_type": "code",
   "execution_count": 32,
   "id": "ce9ccd77",
   "metadata": {},
   "outputs": [
    {
     "data": {
      "text/plain": [
       "105000.0"
      ]
     },
     "execution_count": 32,
     "metadata": {},
     "output_type": "execute_result"
    }
   ],
   "source": [
    "FemaleSEData[\"Salary\"].median()"
   ]
  },
  {
   "cell_type": "code",
   "execution_count": 33,
   "id": "ae6bc93a",
   "metadata": {},
   "outputs": [
    {
     "data": {
      "text/plain": [
       "127088.90534979424"
      ]
     },
     "execution_count": 33,
     "metadata": {},
     "output_type": "execute_result"
    }
   ],
   "source": [
    "MaleSEData[\"Salary\"].mean()"
   ]
  },
  {
   "cell_type": "code",
   "execution_count": 34,
   "id": "19ba3ca1",
   "metadata": {},
   "outputs": [
    {
     "data": {
      "text/plain": [
       "140000.0"
      ]
     },
     "execution_count": 34,
     "metadata": {},
     "output_type": "execute_result"
    }
   ],
   "source": [
    "MaleSEData[\"Salary\"].median()"
   ]
  }
 ],
 "metadata": {
  "kernelspec": {
   "display_name": "Python 3 (ipykernel)",
   "language": "python",
   "name": "python3"
  },
  "language_info": {
   "codemirror_mode": {
    "name": "ipython",
    "version": 3
   },
   "file_extension": ".py",
   "mimetype": "text/x-python",
   "name": "python",
   "nbconvert_exporter": "python",
   "pygments_lexer": "ipython3",
   "version": "3.11.6"
  }
 },
 "nbformat": 4,
 "nbformat_minor": 5
}
